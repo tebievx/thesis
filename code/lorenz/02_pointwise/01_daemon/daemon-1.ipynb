{
 "cells": [
  {
   "cell_type": "code",
   "execution_count": null,
   "metadata": {},
   "outputs": [],
   "source": [
    "import sys\n",
    "root_dir = '../../../'\n",
    "sys.path.append(root_dir)"
   ]
  },
  {
   "cell_type": "code",
   "execution_count": null,
   "metadata": {},
   "outputs": [],
   "source": [
    "import pickle\n",
    "from matplotlib.lines import Line2D\n",
    "from utils import *"
   ]
  },
  {
   "cell_type": "code",
   "execution_count": null,
   "metadata": {},
   "outputs": [],
   "source": [
    "import warnings\n",
    "warnings.filterwarnings(\"ignore\")"
   ]
  },
  {
   "cell_type": "markdown",
   "metadata": {},
   "source": [
    "## Load data"
   ]
  },
  {
   "cell_type": "code",
   "execution_count": null,
   "metadata": {},
   "outputs": [],
   "source": [
    "lorenz = pd.read_csv(root_dir + '/data/lorenz.csv', header=None).iloc[:, 0].values\n",
    "j = 150\n",
    "X_train = lorenz[3_000 + j: 13_000 + j]\n",
    "Y_true = lorenz[13_000 + j: 14_000 + j]"
   ]
  },
  {
   "cell_type": "markdown",
   "metadata": {},
   "source": [
    "## Get patterns and motifs"
   ]
  },
  {
   "cell_type": "code",
   "execution_count": null,
   "metadata": {},
   "outputs": [],
   "source": [
    "patterns = get_patterns(\n",
    "    pattern_size=3, \n",
    "    max_distance=10, \n",
    "    patterns_percent=100\n",
    ")\n",
    "\n",
    "motifs = get_motifs(X_train, patterns)\n",
    "\n",
    "print(len(motifs))\n",
    "print(motifs[patterns[0]].shape)"
   ]
  },
  {
   "cell_type": "markdown",
   "metadata": {},
   "source": [
    "## Algorithm"
   ]
  },
  {
   "cell_type": "code",
   "execution_count": null,
   "metadata": {},
   "outputs": [],
   "source": [
    "trajectory_length = 50\n",
    "\n",
    "trajectory, possible_predictions = daemon(\n",
    "    trajectory_length = trajectory_length,\n",
    "    X_train = X_train,\n",
    "    Y_true = Y_true,\n",
    "    motifs =  motifs,\n",
    "    distance_eps = 0.005,\n",
    "    cluster_eps = 0.01,\n",
    "    min_samples = 5,\n",
    "    cluster_1_proportion_threshold = -1,\n",
    "    clusters_diff_threshold = -1,\n",
    "    sigma = 0.0,\n",
    "    return_possible_predictions = True,\n",
    "    daemon_eps = 0.05\n",
    ")"
   ]
  },
  {
   "cell_type": "code",
   "execution_count": null,
   "metadata": {},
   "outputs": [],
   "source": [
    "plt.figure(figsize=(15, 5))\n",
    "plot_Y_true(Y_true[:trajectory_length])\n",
    "plot_predictions(trajectory)\n",
    "plot_possible_predictions(possible_predictions)\n",
    "plt.ylim(top=1.05)\n",
    "plt.ylim(bottom=-0.05)\n",
    "plt.xlabel('Time Step')\n",
    "plt.ylabel('Time series value')\n",
    "plt.legend(bbox_to_anchor=(1.25, 1))\n",
    "plt.show()"
   ]
  },
  {
   "cell_type": "code",
   "execution_count": null,
   "metadata": {},
   "outputs": [],
   "source": [
    "trajectory_length = 50\n",
    "n = 96 * 10   # the number of iterations required to traverse Y_true\n",
    "\n",
    "inputs = []\n",
    "for i in range(n):\n",
    "    _X_train = np.append(X_train, Y_true[:i])\n",
    "    _Y_true = Y_true[i: i + trajectory_length]\n",
    "    _input = (\n",
    "        trajectory_length, \n",
    "        _X_train,\n",
    "        _Y_true,\n",
    "        motifs\n",
    "    )   \n",
    "    inputs.append(_input)\n",
    "\n",
    "\n",
    "def task(x):\n",
    "    trajectory_length, X_train, Y_true, motifs = x\n",
    "    trajectory, possible_predictions = daemon(\n",
    "        trajectory_length = trajectory_length,\n",
    "        X_train = X_train,\n",
    "        Y_true = Y_true,\n",
    "        motifs =  motifs,\n",
    "        distance_eps = 0.005,\n",
    "        cluster_eps = 0.01,\n",
    "        min_samples = 5,\n",
    "        cluster_1_proportion_threshold = -1,\n",
    "        clusters_diff_threshold = -1,\n",
    "        sigma = 0.0,\n",
    "        return_possible_predictions = True,\n",
    "        daemon_eps = 0.05\n",
    "    )\n",
    "    return trajectory, possible_predictions\n",
    "\n",
    "\n",
    "results = run_concurrently(task, inputs)"
   ]
  },
  {
   "cell_type": "code",
   "execution_count": null,
   "metadata": {},
   "outputs": [],
   "source": [
    "with open('results-daemon-1.pickle', 'wb') as f:\n",
    "    pickle.dump(results, f)"
   ]
  },
  {
   "cell_type": "code",
   "execution_count": null,
   "metadata": {},
   "outputs": [],
   "source": []
  }
 ],
 "metadata": {
  "kernelspec": {
   "display_name": "Python 3.8.10 ('ml')",
   "language": "python",
   "name": "python3"
  },
  "language_info": {
   "codemirror_mode": {
    "name": "ipython",
    "version": 3
   },
   "file_extension": ".py",
   "mimetype": "text/x-python",
   "name": "python",
   "nbconvert_exporter": "python",
   "pygments_lexer": "ipython3",
   "version": "3.8.10"
  },
  "orig_nbformat": 4,
  "vscode": {
   "interpreter": {
    "hash": "343126294390100c13453ac05008dbd5f04a2489dbf951c72b8ce25f78ec4e86"
   }
  }
 },
 "nbformat": 4,
 "nbformat_minor": 2
}
