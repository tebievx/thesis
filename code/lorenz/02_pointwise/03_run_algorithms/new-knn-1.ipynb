{
 "cells": [
  {
   "cell_type": "code",
   "execution_count": null,
   "metadata": {},
   "outputs": [],
   "source": [
    "import sys\n",
    "root_dir = '../../../'\n",
    "sys.path.append(root_dir)"
   ]
  },
  {
   "cell_type": "code",
   "execution_count": 1,
   "metadata": {},
   "outputs": [],
   "source": [
    "import pickle\n",
    "from utils import *"
   ]
  },
  {
   "cell_type": "code",
   "execution_count": 2,
   "metadata": {},
   "outputs": [],
   "source": [
    "import warnings\n",
    "warnings.filterwarnings(\"ignore\")"
   ]
  },
  {
   "cell_type": "markdown",
   "metadata": {},
   "source": [
    "## Load data"
   ]
  },
  {
   "cell_type": "code",
   "execution_count": 3,
   "metadata": {},
   "outputs": [],
   "source": [
    "lorenz = pd.read_csv(root_dir + '/data/lorenz.csv', header=None).iloc[:, 0].values\n",
    "X_train = lorenz[4_000: 24_000]"
   ]
  },
  {
   "cell_type": "code",
   "execution_count": 4,
   "metadata": {},
   "outputs": [],
   "source": [
    "with open('../../01_base/results-base-2.pickle', 'rb') as f:\n",
    "    results = pickle.load(f)\n",
    "\n",
    "predicted = results['predicted']\n",
    "true = results['true']\n",
    "# predicted = results['predicted'][:, :50]\n",
    "# true = results['true'][:, :50]"
   ]
  },
  {
   "cell_type": "markdown",
   "metadata": {},
   "source": [
    "## Get patterns and motifs"
   ]
  },
  {
   "cell_type": "code",
   "execution_count": 5,
   "metadata": {},
   "outputs": [
    {
     "name": "stdout",
     "output_type": "stream",
     "text": [
      "1000\n",
      "(19984, 4)\n"
     ]
    }
   ],
   "source": [
    "patterns = get_patterns(\n",
    "    pattern_size=3, \n",
    "    max_distance=10, \n",
    "    patterns_percent=100\n",
    ")\n",
    "\n",
    "motifs = get_motifs(X_train, patterns)\n",
    "\n",
    "print(len(motifs))\n",
    "print(motifs[patterns[0]].shape)"
   ]
  },
  {
   "cell_type": "markdown",
   "metadata": {},
   "source": [
    "## Algorithm"
   ]
  },
  {
   "cell_type": "code",
   "execution_count": 6,
   "metadata": {},
   "outputs": [],
   "source": [
    "with open('../02_train_classifiers/knn.pickle', 'rb') as f:\n",
    "    classifier = pickle.load(f)"
   ]
  },
  {
   "cell_type": "code",
   "execution_count": 7,
   "metadata": {},
   "outputs": [],
   "source": [
    "inputs = predicted\n",
    "\n",
    "def task(Y_pred):\n",
    "    counter = [-1, np.sum(np.isnan(Y_pred))]\n",
    "    for i in range(10):\n",
    "        if counter[-1] == counter[-2]:\n",
    "            break\n",
    "        Y_pred = get_new_predictions(\n",
    "            X_train = X_train,\n",
    "            old_predictions = Y_pred,\n",
    "            motifs = motifs,\n",
    "            distance_eps = 0.005,\n",
    "            cluster_eps = 0.01, \n",
    "            min_samples = 5, \n",
    "            cluster_1_proportion_threshold = -1, \n",
    "            clusters_diff_threshold = -1, \n",
    "            sigma = 0,\n",
    "            keep_previous_iter_predictions = True,\n",
    "            last = False,\n",
    "            possible_predictions_min_size = 80,\n",
    "            return_possible_predictions = False,\n",
    "            classifier = classifier,\n",
    "            classifier_prob = False\n",
    "        )\n",
    "        counter.append(sum(np.isnan(Y_pred)))\n",
    "    return Y_pred\n",
    "\n",
    "results = run_concurrently(task, inputs)\n",
    "predicted_new = np.stack(results, axis=0)"
   ]
  },
  {
   "cell_type": "code",
   "execution_count": 8,
   "metadata": {},
   "outputs": [],
   "source": [
    "with open('results-new-knn-1.pickle', 'wb') as f:\n",
    "    pickle.dump(predicted_new, f)"
   ]
  },
  {
   "cell_type": "code",
   "execution_count": null,
   "metadata": {},
   "outputs": [],
   "source": []
  }
 ],
 "metadata": {
  "kernelspec": {
   "display_name": "Python 3.8.10 ('ml')",
   "language": "python",
   "name": "python3"
  },
  "language_info": {
   "codemirror_mode": {
    "name": "ipython",
    "version": 3
   },
   "file_extension": ".py",
   "mimetype": "text/x-python",
   "name": "python",
   "nbconvert_exporter": "python",
   "pygments_lexer": "ipython3",
   "version": "3.8.10"
  },
  "orig_nbformat": 4,
  "vscode": {
   "interpreter": {
    "hash": "343126294390100c13453ac05008dbd5f04a2489dbf951c72b8ce25f78ec4e86"
   }
  }
 },
 "nbformat": 4,
 "nbformat_minor": 2
}
