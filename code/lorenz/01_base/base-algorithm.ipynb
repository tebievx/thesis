{
 "cells": [
  {
   "cell_type": "code",
   "execution_count": null,
   "metadata": {},
   "outputs": [],
   "source": [
    "import sys\n",
    "root_dir = '../../'\n",
    "sys.path.append(root_dir)"
   ]
  },
  {
   "cell_type": "code",
   "execution_count": 1,
   "metadata": {},
   "outputs": [],
   "source": [
    "import pickle\n",
    "from utils import *"
   ]
  },
  {
   "cell_type": "code",
   "execution_count": 2,
   "metadata": {},
   "outputs": [],
   "source": [
    "import warnings\n",
    "warnings.filterwarnings(\"ignore\")"
   ]
  },
  {
   "cell_type": "markdown",
   "metadata": {},
   "source": [
    "## Load data"
   ]
  },
  {
   "cell_type": "code",
   "execution_count": 3,
   "metadata": {},
   "outputs": [],
   "source": [
    "lorenz = pd.read_csv(root_dir + '/data/lorenz.csv', header=None).iloc[:, 0].values\n",
    "X_train = lorenz[4_000: 24_000]\n",
    "Y_true = lorenz[24_000: 26_000]"
   ]
  },
  {
   "cell_type": "markdown",
   "metadata": {},
   "source": [
    "## Multiple trajectories: Predictions using random perturbations and clustering of noisy trajectories"
   ]
  },
  {
   "cell_type": "code",
   "execution_count": 4,
   "metadata": {},
   "outputs": [],
   "source": [
    "# get patterns and motifs\n",
    "\n",
    "patterns = get_patterns(\n",
    "    pattern_size = 3, \n",
    "    max_distance = 10, \n",
    "    patterns_percent = 100\n",
    ")\n",
    "\n",
    "motifs = get_motifs(X_train, patterns)"
   ]
  },
  {
   "cell_type": "code",
   "execution_count": 5,
   "metadata": {},
   "outputs": [],
   "source": [
    "trajectories_num = 30\n",
    "trajectory_length = 100\n",
    "n = 96 * 3   # number of iterations (experiments)\n",
    "\n",
    "# prepare inputs for get_multiple_trajectories() on each iteration\n",
    "inputs = []\n",
    "for i in range(n):\n",
    "    _input = (\n",
    "        trajectories_num,\n",
    "        trajectory_length, \n",
    "        np.append(X_train, Y_true[:i]), \n",
    "        motifs\n",
    "    )   \n",
    "    inputs.append(_input)\n",
    "\n",
    "\n",
    "def task(_input):\n",
    "    trajectories_num, trajectory_length, _X_train, motifs = _input\n",
    "    \n",
    "    multiple_trajectories = get_multiple_trajectories(\n",
    "        trajectories_num = trajectories_num,\n",
    "        trajectory_length = trajectory_length, \n",
    "        X_train = _X_train, \n",
    "        motifs = motifs, \n",
    "        distance_eps = 0.01, \n",
    "        cluster_eps = 0.01, \n",
    "        min_samples = 5,\n",
    "        cluster_1_proportion_threshold = -1, \n",
    "        clusters_diff_threshold = -1, \n",
    "        sigma = 0.01\n",
    "    )\n",
    "\n",
    "    return multiple_trajectories\n",
    "\n",
    "\n",
    "results = run_concurrently(task, inputs)"
   ]
  },
  {
   "cell_type": "code",
   "execution_count": null,
   "metadata": {},
   "outputs": [],
   "source": [
    "\n",
    "with open('results-base.pickle', 'wb') as f:\n",
    "    pickle.dump(results, f)"
   ]
  },
  {
   "cell_type": "code",
   "execution_count": null,
   "metadata": {},
   "outputs": [],
   "source": []
  }
 ],
 "metadata": {
  "kernelspec": {
   "display_name": "Python 3.8.10 ('ml')",
   "language": "python",
   "name": "python3"
  },
  "language_info": {
   "codemirror_mode": {
    "name": "ipython",
    "version": 3
   },
   "file_extension": ".py",
   "mimetype": "text/x-python",
   "name": "python",
   "nbconvert_exporter": "python",
   "pygments_lexer": "ipython3",
   "version": "3.8.10"
  },
  "orig_nbformat": 4,
  "vscode": {
   "interpreter": {
    "hash": "343126294390100c13453ac05008dbd5f04a2489dbf951c72b8ce25f78ec4e86"
   }
  }
 },
 "nbformat": 4,
 "nbformat_minor": 2
}
