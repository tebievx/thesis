{
 "cells": [
  {
   "cell_type": "code",
   "execution_count": null,
   "metadata": {},
   "outputs": [],
   "source": [
    "import sys\n",
    "root_dir = '../../'\n",
    "sys.path.append(root_dir)"
   ]
  },
  {
   "cell_type": "code",
   "execution_count": 5,
   "metadata": {},
   "outputs": [],
   "source": [
    "import pickle\n",
    "from utils import *"
   ]
  },
  {
   "cell_type": "code",
   "execution_count": 6,
   "metadata": {},
   "outputs": [],
   "source": [
    "import warnings\n",
    "warnings.filterwarnings(\"ignore\")"
   ]
  },
  {
   "cell_type": "markdown",
   "metadata": {},
   "source": [
    "## Load data"
   ]
  },
  {
   "cell_type": "code",
   "execution_count": 7,
   "metadata": {},
   "outputs": [],
   "source": [
    "lorenz = pd.read_csv(root_dir + '/data/lorenz.csv', header=None).iloc[:, 0].values\n",
    "X_train = lorenz[4_000: 24_000]\n",
    "Y_true = lorenz[24_000: 26_000]"
   ]
  },
  {
   "cell_type": "code",
   "execution_count": 8,
   "metadata": {},
   "outputs": [],
   "source": [
    "with open('results-base.pickle', 'rb') as f:\n",
    "    multiple_trajectories = pickle.load(f)"
   ]
  },
  {
   "cell_type": "markdown",
   "metadata": {},
   "source": [
    "## Get results"
   ]
  },
  {
   "cell_type": "code",
   "execution_count": 9,
   "metadata": {},
   "outputs": [],
   "source": [
    "trajectory_length = 100\n",
    "n = 96 * 3   # number of iterations (experiments)\n",
    "\n",
    "max_cluster_proportion_threshold = 0.5\n",
    "cluster_eps = 0.005\n",
    "min_samples = 5\n",
    "\n",
    "predicted = []\n",
    "for _multiple_trajectories in multiple_trajectories:\n",
    "    final_trajectory = get_final_trajectory(\n",
    "        _multiple_trajectories, \n",
    "        max_cluster_proportion_threshold = max_cluster_proportion_threshold, \n",
    "        cluster_eps = cluster_eps, \n",
    "        min_samples = min_samples\n",
    "    )\n",
    "    predicted.append(final_trajectory)\n",
    "\n",
    "predicted = np.stack(predicted, axis=0)\n",
    "true = np.stack([Y_true[i: i + trajectory_length] for i in range(n)], axis=0)"
   ]
  },
  {
   "cell_type": "code",
   "execution_count": 10,
   "metadata": {},
   "outputs": [],
   "source": [
    "results = dict(true=true, predicted=predicted)\n",
    "\n",
    "with open('results-base-2.pickle', 'wb') as f:\n",
    "    pickle.dump(results, f)"
   ]
  }
 ],
 "metadata": {
  "kernelspec": {
   "display_name": "Python 3.8.10 ('ml')",
   "language": "python",
   "name": "python3"
  },
  "language_info": {
   "codemirror_mode": {
    "name": "ipython",
    "version": 3
   },
   "file_extension": ".py",
   "mimetype": "text/x-python",
   "name": "python",
   "nbconvert_exporter": "python",
   "pygments_lexer": "ipython3",
   "version": "3.8.10"
  },
  "orig_nbformat": 4,
  "vscode": {
   "interpreter": {
    "hash": "343126294390100c13453ac05008dbd5f04a2489dbf951c72b8ce25f78ec4e86"
   }
  }
 },
 "nbformat": 4,
 "nbformat_minor": 2
}
