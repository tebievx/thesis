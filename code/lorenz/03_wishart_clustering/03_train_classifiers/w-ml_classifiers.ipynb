{
 "cells": [
  {
   "cell_type": "code",
   "execution_count": 1,
   "metadata": {},
   "outputs": [],
   "source": [
    "import sys\n",
    "root_dir = '../../../'\n",
    "sys.path.append(root_dir)"
   ]
  },
  {
   "cell_type": "code",
   "execution_count": 2,
   "metadata": {},
   "outputs": [],
   "source": [
    "import pickle\n",
    "from utils import *\n",
    "from sklearn.svm import SVC\n",
    "from sklearn.neighbors import KNeighborsClassifier\n",
    "from sklearn.linear_model import LogisticRegression\n",
    "from sklearn.ensemble import GradientBoostingClassifier\n",
    "from sklearn.neural_network import MLPClassifier\n",
    "from sklearn.model_selection import train_test_split\n",
    "from sklearn.model_selection import GridSearchCV\n",
    "from sklearn.metrics import precision_recall_curve\n",
    "from sklearn.metrics import accuracy_score\n",
    "from sklearn.metrics import classification_report"
   ]
  },
  {
   "cell_type": "code",
   "execution_count": 3,
   "metadata": {},
   "outputs": [],
   "source": [
    "import warnings\n",
    "warnings.filterwarnings(\"ignore\")"
   ]
  },
  {
   "cell_type": "markdown",
   "metadata": {},
   "source": [
    "## Load data"
   ]
  },
  {
   "cell_type": "code",
   "execution_count": 5,
   "metadata": {},
   "outputs": [
    {
     "data": {
      "text/html": [
       "<div>\n",
       "<style scoped>\n",
       "    .dataframe tbody tr th:only-of-type {\n",
       "        vertical-align: middle;\n",
       "    }\n",
       "\n",
       "    .dataframe tbody tr th {\n",
       "        vertical-align: top;\n",
       "    }\n",
       "\n",
       "    .dataframe thead th {\n",
       "        text-align: right;\n",
       "    }\n",
       "</style>\n",
       "<table border=\"1\" class=\"dataframe\">\n",
       "  <thead>\n",
       "    <tr style=\"text-align: right;\">\n",
       "      <th></th>\n",
       "      <th>0</th>\n",
       "      <th>1</th>\n",
       "      <th>2</th>\n",
       "      <th>3</th>\n",
       "      <th>4</th>\n",
       "      <th>5</th>\n",
       "    </tr>\n",
       "  </thead>\n",
       "  <tbody>\n",
       "    <tr>\n",
       "      <th>0</th>\n",
       "      <td>0.024096</td>\n",
       "      <td>0.007265</td>\n",
       "      <td>0.983278</td>\n",
       "      <td>0.983278</td>\n",
       "      <td>0.000000</td>\n",
       "      <td>1.0</td>\n",
       "    </tr>\n",
       "    <tr>\n",
       "      <th>1</th>\n",
       "      <td>0.023880</td>\n",
       "      <td>0.014476</td>\n",
       "      <td>0.867925</td>\n",
       "      <td>0.773585</td>\n",
       "      <td>0.059148</td>\n",
       "      <td>0.0</td>\n",
       "    </tr>\n",
       "    <tr>\n",
       "      <th>2</th>\n",
       "      <td>0.052420</td>\n",
       "      <td>0.010453</td>\n",
       "      <td>0.739130</td>\n",
       "      <td>0.637681</td>\n",
       "      <td>0.048948</td>\n",
       "      <td>0.0</td>\n",
       "    </tr>\n",
       "    <tr>\n",
       "      <th>3</th>\n",
       "      <td>0.090847</td>\n",
       "      <td>0.005148</td>\n",
       "      <td>0.733333</td>\n",
       "      <td>0.566667</td>\n",
       "      <td>0.220208</td>\n",
       "      <td>0.0</td>\n",
       "    </tr>\n",
       "    <tr>\n",
       "      <th>4</th>\n",
       "      <td>0.013917</td>\n",
       "      <td>0.010669</td>\n",
       "      <td>0.989619</td>\n",
       "      <td>0.989619</td>\n",
       "      <td>0.000000</td>\n",
       "      <td>1.0</td>\n",
       "    </tr>\n",
       "  </tbody>\n",
       "</table>\n",
       "</div>"
      ],
      "text/plain": [
       "          0         1         2         3         4    5\n",
       "0  0.024096  0.007265  0.983278  0.983278  0.000000  1.0\n",
       "1  0.023880  0.014476  0.867925  0.773585  0.059148  0.0\n",
       "2  0.052420  0.010453  0.739130  0.637681  0.048948  0.0\n",
       "3  0.090847  0.005148  0.733333  0.566667  0.220208  0.0\n",
       "4  0.013917  0.010669  0.989619  0.989619  0.000000  1.0"
      ]
     },
     "execution_count": 5,
     "metadata": {},
     "output_type": "execute_result"
    }
   ],
   "source": [
    "df = pd.read_csv('../02_daemon/w-df.csv', header=None)\n",
    "df.head()"
   ]
  },
  {
   "cell_type": "code",
   "execution_count": 6,
   "metadata": {},
   "outputs": [],
   "source": [
    "X = df.iloc[:, :-1]\n",
    "y = df.iloc[:, -1]"
   ]
  },
  {
   "cell_type": "code",
   "execution_count": 7,
   "metadata": {},
   "outputs": [],
   "source": [
    "X_train, X_test, y_train, y_test = train_test_split(\n",
    "    X, y, test_size=0.3, shuffle=True, random_state=23\n",
    ")"
   ]
  },
  {
   "cell_type": "markdown",
   "metadata": {},
   "source": [
    "## SVM Classifier"
   ]
  },
  {
   "cell_type": "code",
   "execution_count": 7,
   "metadata": {},
   "outputs": [],
   "source": [
    "param_grid = {\n",
    "    'C': [1, 3, 5],\n",
    "    'kernel': ['linear', 'rbf'],\n",
    "    'gamma': ['scale', 'auto']\n",
    "}\n",
    "estimator = SVC()\n",
    "svc = GridSearchCV(\n",
    "    estimator = estimator, \n",
    "    param_grid = param_grid,\n",
    "    scoring = 'accuracy'\n",
    ")\n",
    "svc.fit(X_train, y_train)\n",
    "y_pred = svc.predict(X_test)"
   ]
  },
  {
   "cell_type": "code",
   "execution_count": 8,
   "metadata": {},
   "outputs": [
    {
     "name": "stdout",
     "output_type": "stream",
     "text": [
      "best estimator:\t\tSVC(C=5)\n",
      "best params:\t\t{'C': 5, 'gamma': 'scale', 'kernel': 'rbf'}\n",
      "accuracy:\t\t0.7277177825773938\n",
      "\n",
      "Classification report:\n",
      "              precision    recall  f1-score   support\n",
      "\n",
      "         0.0       0.76      0.67      0.71      3456\n",
      "         1.0       0.70      0.79      0.74      3489\n",
      "\n",
      "    accuracy                           0.73      6945\n",
      "   macro avg       0.73      0.73      0.73      6945\n",
      "weighted avg       0.73      0.73      0.73      6945\n",
      "\n"
     ]
    }
   ],
   "source": [
    "print(f'best estimator:\\t\\t{svc.best_estimator_}')\n",
    "print(f'best params:\\t\\t{svc.best_params_}')\n",
    "print(f'accuracy:\\t\\t{accuracy_score(y_test, y_pred)}')\n",
    "print('\\nClassification report:')\n",
    "print(classification_report(y_test, y_pred))"
   ]
  },
  {
   "cell_type": "code",
   "execution_count": 9,
   "metadata": {},
   "outputs": [],
   "source": [
    "with open('w-svc.pickle', 'wb') as f:\n",
    "    pickle.dump(svc, f)"
   ]
  },
  {
   "cell_type": "markdown",
   "metadata": {},
   "source": [
    "## KNN Classifier"
   ]
  },
  {
   "cell_type": "code",
   "execution_count": 10,
   "metadata": {},
   "outputs": [],
   "source": [
    "param_grid = {\n",
    "    'n_neighbors': [3, 5, 7, 9, 11, 13, 15, 17],\n",
    "    'weights': ['uniform', 'distance'],\n",
    "    'leaf_size': [5, 10, 15, 20, 25, 30]\n",
    "}\n",
    "estimator = KNeighborsClassifier()\n",
    "knn = GridSearchCV(\n",
    "    estimator = estimator, \n",
    "    param_grid = param_grid,\n",
    "    scoring = 'accuracy'\n",
    ")\n",
    "knn.fit(X_train, y_train)\n",
    "y_pred = knn.predict(X_test)"
   ]
  },
  {
   "cell_type": "code",
   "execution_count": 11,
   "metadata": {},
   "outputs": [
    {
     "name": "stdout",
     "output_type": "stream",
     "text": [
      "best estimator:\t\tKNeighborsClassifier(leaf_size=5, n_neighbors=17, weights='distance')\n",
      "best params:\t\t{'leaf_size': 5, 'n_neighbors': 17, 'weights': 'distance'}\n",
      "accuracy:\t\t0.7686105111591073\n",
      "\n",
      "Classification report:\n",
      "              precision    recall  f1-score   support\n",
      "\n",
      "         0.0       0.76      0.78      0.77      3456\n",
      "         1.0       0.78      0.76      0.77      3489\n",
      "\n",
      "    accuracy                           0.77      6945\n",
      "   macro avg       0.77      0.77      0.77      6945\n",
      "weighted avg       0.77      0.77      0.77      6945\n",
      "\n"
     ]
    }
   ],
   "source": [
    "print(f'best estimator:\\t\\t{knn.best_estimator_}')\n",
    "print(f'best params:\\t\\t{knn.best_params_}')\n",
    "print(f'accuracy:\\t\\t{accuracy_score(y_test, y_pred)}')\n",
    "print('\\nClassification report:')\n",
    "print(classification_report(y_test, y_pred))"
   ]
  },
  {
   "cell_type": "code",
   "execution_count": 12,
   "metadata": {},
   "outputs": [],
   "source": [
    "with open('w-knn.pickle', 'wb') as f:\n",
    "    pickle.dump(knn, f)"
   ]
  },
  {
   "cell_type": "markdown",
   "metadata": {},
   "source": [
    "## Logistic Regression"
   ]
  },
  {
   "cell_type": "code",
   "execution_count": 13,
   "metadata": {},
   "outputs": [],
   "source": [
    "logreg = LogisticRegression()\n",
    "\n",
    "param_grid = {\n",
    "    'C': [1, 3, 5], \n",
    "    'penalty': ['l1', 'l2', 'none'],\n",
    "    'solver': ['newton-cg', 'lbfgs', 'liblinear', 'sag', 'saga'],\n",
    "    'max_iter': [1000]\n",
    "\n",
    "}\n",
    "estimator = LogisticRegression()\n",
    "logreg = GridSearchCV(\n",
    "    estimator = estimator, \n",
    "    param_grid = param_grid,\n",
    "    scoring = 'accuracy'\n",
    ")\n",
    "logreg.fit(X_train, y_train)\n",
    "y_pred = logreg.predict(X_test)"
   ]
  },
  {
   "cell_type": "code",
   "execution_count": 14,
   "metadata": {},
   "outputs": [
    {
     "name": "stdout",
     "output_type": "stream",
     "text": [
      "best estimator:\t\tLogisticRegression(C=1, max_iter=1000, penalty='none', solver='newton-cg')\n",
      "best params:\t\t{'C': 1, 'max_iter': 1000, 'penalty': 'none', 'solver': 'newton-cg'}\n",
      "accuracy:\t\t0.7115910727141829\n",
      "\n",
      "Classification report:\n",
      "              precision    recall  f1-score   support\n",
      "\n",
      "         0.0       0.77      0.61      0.68      3456\n",
      "         1.0       0.68      0.82      0.74      3489\n",
      "\n",
      "    accuracy                           0.71      6945\n",
      "   macro avg       0.72      0.71      0.71      6945\n",
      "weighted avg       0.72      0.71      0.71      6945\n",
      "\n"
     ]
    }
   ],
   "source": [
    "print(f'best estimator:\\t\\t{logreg.best_estimator_}')\n",
    "print(f'best params:\\t\\t{logreg.best_params_}')\n",
    "print(f'accuracy:\\t\\t{accuracy_score(y_test, y_pred)}')\n",
    "print('\\nClassification report:')\n",
    "print(classification_report(y_test, y_pred))"
   ]
  },
  {
   "cell_type": "code",
   "execution_count": 15,
   "metadata": {},
   "outputs": [
    {
     "data": {
      "image/png": "[encoded data removed]",
      "text/plain": [
       "<Figure size 640x480 with 1 Axes>"
      ]
     },
     "metadata": {},
     "output_type": "display_data"
    }
   ],
   "source": [
    "lr_probs = logreg.predict_proba(X_test)\n",
    "lr_probs = lr_probs[:, 1]  # keep probabilities for the positive outcome only\n",
    "lr_precision, lr_recall, _ = precision_recall_curve(y_test, lr_probs)\n",
    "plt.plot(lr_recall, lr_precision, marker='.', label='Logistic')\n",
    "plt.xlabel('Recall')\n",
    "plt.ylabel('Precision')\n",
    "plt.legend()\n",
    "plt.show()"
   ]
  },
  {
   "cell_type": "code",
   "execution_count": 16,
   "metadata": {},
   "outputs": [],
   "source": [
    "with open('w-logreg.pickle', 'wb') as f:\n",
    "    pickle.dump(logreg, f)"
   ]
  },
  {
   "cell_type": "markdown",
   "metadata": {},
   "source": [
    "## Gradient Boosting Classifier"
   ]
  },
  {
   "cell_type": "code",
   "execution_count": 17,
   "metadata": {},
   "outputs": [],
   "source": [
    "param_grid = {\n",
    "    'learning_rate': [0.01, 0.1 ], \n",
    "    'n_estimators': [100, 500, 1000]\n",
    "}\n",
    "estimator = GradientBoostingClassifier()\n",
    "gradboost = GridSearchCV(\n",
    "    estimator = estimator,\n",
    "    param_grid = param_grid,\n",
    "    scoring = 'accuracy'\n",
    ")\n",
    "gradboost.fit(X_train, y_train)\n",
    "y_pred = gradboost.predict(X_test)"
   ]
  },
  {
   "cell_type": "code",
   "execution_count": 18,
   "metadata": {},
   "outputs": [
    {
     "name": "stdout",
     "output_type": "stream",
     "text": [
      "best estimator:\t\tGradientBoostingClassifier(n_estimators=500)\n",
      "best params:\t\t{'learning_rate': 0.1, 'n_estimators': 500}\n",
      "accuracy:\t\t0.7621310295176386\n",
      "\n",
      "Classification report:\n",
      "              precision    recall  f1-score   support\n",
      "\n",
      "         0.0       0.76      0.77      0.76      3456\n",
      "         1.0       0.77      0.76      0.76      3489\n",
      "\n",
      "    accuracy                           0.76      6945\n",
      "   macro avg       0.76      0.76      0.76      6945\n",
      "weighted avg       0.76      0.76      0.76      6945\n",
      "\n"
     ]
    }
   ],
   "source": [
    "print(f'best estimator:\\t\\t{gradboost.best_estimator_}')\n",
    "print(f'best params:\\t\\t{gradboost.best_params_}')\n",
    "print(f'accuracy:\\t\\t{accuracy_score(y_test, y_pred)}')\n",
    "print('\\nClassification report:')\n",
    "print(classification_report(y_test, y_pred))"
   ]
  },
  {
   "cell_type": "code",
   "execution_count": 19,
   "metadata": {},
   "outputs": [
    {
     "data": {
      "image/png": "[encoded data removed]",
      "text/plain": [
       "<Figure size 640x480 with 1 Axes>"
      ]
     },
     "metadata": {},
     "output_type": "display_data"
    }
   ],
   "source": [
    "lr_probs = gradboost.predict_proba(X_test)\n",
    "lr_probs = lr_probs[:, 1]  # keep probabilities for the positive outcome only\n",
    "lr_precision, lr_recall, _ = precision_recall_curve(y_test, lr_probs)\n",
    "plt.plot(lr_recall, lr_precision, marker='.', label='Gradient Boosting')\n",
    "plt.xlabel('Recall')\n",
    "plt.ylabel('Precision')\n",
    "plt.legend()\n",
    "plt.show()"
   ]
  },
  {
   "cell_type": "code",
   "execution_count": 20,
   "metadata": {},
   "outputs": [],
   "source": [
    "with open('w-gradboost.pickle', 'wb') as f:\n",
    "    pickle.dump(gradboost, f)"
   ]
  },
  {
   "cell_type": "markdown",
   "metadata": {},
   "source": [
    "## MLP Classifier"
   ]
  },
  {
   "cell_type": "code",
   "execution_count": 21,
   "metadata": {},
   "outputs": [],
   "source": [
    "param_grid = {\n",
    "    'solver': ['adam'], \n",
    "    'activation': ['relu']\n",
    "}\n",
    "estimator = MLPClassifier()\n",
    "mlp = GridSearchCV(\n",
    "    estimator = estimator,\n",
    "    param_grid = param_grid,\n",
    "    scoring = 'accuracy'\n",
    ")\n",
    "mlp.fit(X_train, y_train)\n",
    "y_pred = mlp.predict(X_test)"
   ]
  },
  {
   "cell_type": "code",
   "execution_count": 22,
   "metadata": {},
   "outputs": [
    {
     "name": "stdout",
     "output_type": "stream",
     "text": [
      "best estimator:\t\tMLPClassifier()\n",
      "best params:\t\t{'activation': 'relu', 'solver': 'adam'}\n",
      "accuracy:\t\t0.7388048956083514\n",
      "\n",
      "Classification report:\n",
      "              precision    recall  f1-score   support\n",
      "\n",
      "         0.0       0.74      0.74      0.74      3456\n",
      "         1.0       0.74      0.74      0.74      3489\n",
      "\n",
      "    accuracy                           0.74      6945\n",
      "   macro avg       0.74      0.74      0.74      6945\n",
      "weighted avg       0.74      0.74      0.74      6945\n",
      "\n"
     ]
    }
   ],
   "source": [
    "print(f'best estimator:\\t\\t{mlp.best_estimator_}')\n",
    "print(f'best params:\\t\\t{mlp.best_params_}')\n",
    "print(f'accuracy:\\t\\t{accuracy_score(y_test, y_pred)}')\n",
    "print('\\nClassification report:')\n",
    "print(classification_report(y_test, y_pred))"
   ]
  },
  {
   "cell_type": "code",
   "execution_count": 23,
   "metadata": {},
   "outputs": [],
   "source": [
    "with open('w-mlp.pickle', 'wb') as f:\n",
    "    pickle.dump(mlp, f)"
   ]
  },
  {
   "cell_type": "code",
   "execution_count": null,
   "metadata": {},
   "outputs": [],
   "source": []
  }
 ],
 "metadata": {
  "kernelspec": {
   "display_name": "Python 3.8.10 ('ml')",
   "language": "python",
   "name": "python3"
  },
  "language_info": {
   "codemirror_mode": {
    "name": "ipython",
    "version": 3
   },
   "file_extension": ".py",
   "mimetype": "text/x-python",
   "name": "python",
   "nbconvert_exporter": "python",
   "pygments_lexer": "ipython3",
   "version": "3.8.10"
  },
  "orig_nbformat": 4,
  "vscode": {
   "interpreter": {
    "hash": "343126294390100c13453ac05008dbd5f04a2489dbf951c72b8ce25f78ec4e86"
   }
  }
 },
 "nbformat": 4,
 "nbformat_minor": 2
}
