{
 "cells": [
  {
   "cell_type": "code",
   "execution_count": 1,
   "metadata": {},
   "outputs": [],
   "source": [
    "import sys\n",
    "root_dir = '../../../'\n",
    "sys.path.append(root_dir)"
   ]
  },
  {
   "cell_type": "code",
   "execution_count": 2,
   "metadata": {},
   "outputs": [],
   "source": [
    "import pickle\n",
    "from utils import *\n",
    "from sklearn.svm import SVC\n",
    "from sklearn.neighbors import KNeighborsClassifier\n",
    "from sklearn.linear_model import LogisticRegression\n",
    "from sklearn.ensemble import GradientBoostingClassifier\n",
    "from sklearn.neural_network import MLPClassifier\n",
    "from sklearn.model_selection import train_test_split\n",
    "from sklearn.model_selection import GridSearchCV\n",
    "from sklearn.metrics import precision_recall_curve\n",
    "from sklearn.metrics import accuracy_score\n",
    "from sklearn.metrics import classification_report"
   ]
  },
  {
   "cell_type": "code",
   "execution_count": 3,
   "metadata": {},
   "outputs": [],
   "source": [
    "import warnings\n",
    "warnings.filterwarnings(\"ignore\")"
   ]
  },
  {
   "cell_type": "markdown",
   "metadata": {},
   "source": [
    "## Load data"
   ]
  },
  {
   "cell_type": "code",
   "execution_count": 4,
   "metadata": {},
   "outputs": [
    {
     "data": {
      "text/html": [
       "<div>\n",
       "<style scoped>\n",
       "    .dataframe tbody tr th:only-of-type {\n",
       "        vertical-align: middle;\n",
       "    }\n",
       "\n",
       "    .dataframe tbody tr th {\n",
       "        vertical-align: top;\n",
       "    }\n",
       "\n",
       "    .dataframe thead th {\n",
       "        text-align: right;\n",
       "    }\n",
       "</style>\n",
       "<table border=\"1\" class=\"dataframe\">\n",
       "  <thead>\n",
       "    <tr style=\"text-align: right;\">\n",
       "      <th></th>\n",
       "      <th>0</th>\n",
       "      <th>1</th>\n",
       "      <th>2</th>\n",
       "      <th>3</th>\n",
       "      <th>4</th>\n",
       "      <th>5</th>\n",
       "    </tr>\n",
       "  </thead>\n",
       "  <tbody>\n",
       "    <tr>\n",
       "      <th>0</th>\n",
       "      <td>0.184321</td>\n",
       "      <td>0.003148</td>\n",
       "      <td>0.352941</td>\n",
       "      <td>0.352941</td>\n",
       "      <td>0.000000</td>\n",
       "      <td>0.0</td>\n",
       "    </tr>\n",
       "    <tr>\n",
       "      <th>1</th>\n",
       "      <td>0.185555</td>\n",
       "      <td>0.014912</td>\n",
       "      <td>0.471698</td>\n",
       "      <td>0.245283</td>\n",
       "      <td>0.269076</td>\n",
       "      <td>0.0</td>\n",
       "    </tr>\n",
       "    <tr>\n",
       "      <th>2</th>\n",
       "      <td>0.111316</td>\n",
       "      <td>0.015870</td>\n",
       "      <td>0.686275</td>\n",
       "      <td>0.568627</td>\n",
       "      <td>0.050223</td>\n",
       "      <td>1.0</td>\n",
       "    </tr>\n",
       "    <tr>\n",
       "      <th>3</th>\n",
       "      <td>0.026690</td>\n",
       "      <td>0.011292</td>\n",
       "      <td>0.942029</td>\n",
       "      <td>0.942029</td>\n",
       "      <td>0.000000</td>\n",
       "      <td>1.0</td>\n",
       "    </tr>\n",
       "    <tr>\n",
       "      <th>4</th>\n",
       "      <td>0.154010</td>\n",
       "      <td>0.012084</td>\n",
       "      <td>0.581818</td>\n",
       "      <td>0.436364</td>\n",
       "      <td>0.267591</td>\n",
       "      <td>0.0</td>\n",
       "    </tr>\n",
       "  </tbody>\n",
       "</table>\n",
       "</div>"
      ],
      "text/plain": [
       "          0         1         2         3         4    5\n",
       "0  0.184321  0.003148  0.352941  0.352941  0.000000  0.0\n",
       "1  0.185555  0.014912  0.471698  0.245283  0.269076  0.0\n",
       "2  0.111316  0.015870  0.686275  0.568627  0.050223  1.0\n",
       "3  0.026690  0.011292  0.942029  0.942029  0.000000  1.0\n",
       "4  0.154010  0.012084  0.581818  0.436364  0.267591  0.0"
      ]
     },
     "execution_count": 4,
     "metadata": {},
     "output_type": "execute_result"
    }
   ],
   "source": [
    "df = pd.read_csv('../02_daemon/w-e-df.csv', header=None)\n",
    "df.head()"
   ]
  },
  {
   "cell_type": "code",
   "execution_count": 4,
   "metadata": {},
   "outputs": [],
   "source": [
    "X = df.iloc[:, :-1]\n",
    "y = df.iloc[:, -1]"
   ]
  },
  {
   "cell_type": "code",
   "execution_count": 5,
   "metadata": {},
   "outputs": [],
   "source": [
    "X_train, X_test, y_train, y_test = train_test_split(\n",
    "    X, y, test_size=0.3, shuffle=True, random_state=23\n",
    ")"
   ]
  },
  {
   "cell_type": "markdown",
   "metadata": {},
   "source": [
    "## SVM Classifier"
   ]
  },
  {
   "cell_type": "code",
   "execution_count": 6,
   "metadata": {},
   "outputs": [],
   "source": [
    "param_grid = {\n",
    "    'C': [1, 3, 5],\n",
    "    'kernel': ['linear', 'rbf'],\n",
    "    'gamma': ['scale', 'auto']\n",
    "}\n",
    "estimator = SVC()\n",
    "svc = GridSearchCV(\n",
    "    estimator = estimator, \n",
    "    param_grid = param_grid,\n",
    "    scoring = 'accuracy'\n",
    ")\n",
    "svc.fit(X_train, y_train)\n",
    "y_pred = svc.predict(X_test)"
   ]
  },
  {
   "cell_type": "code",
   "execution_count": 7,
   "metadata": {},
   "outputs": [
    {
     "name": "stdout",
     "output_type": "stream",
     "text": [
      "best estimator:\t\tSVC(C=5)\n",
      "best params:\t\t{'C': 5, 'gamma': 'scale', 'kernel': 'rbf'}\n",
      "accuracy:\t\t0.7387429643527205\n",
      "\n",
      "Classification report:\n",
      "              precision    recall  f1-score   support\n",
      "\n",
      "         0.0       0.74      0.74      0.74      1069\n",
      "         1.0       0.74      0.74      0.74      1063\n",
      "\n",
      "    accuracy                           0.74      2132\n",
      "   macro avg       0.74      0.74      0.74      2132\n",
      "weighted avg       0.74      0.74      0.74      2132\n",
      "\n"
     ]
    }
   ],
   "source": [
    "print(f'best estimator:\\t\\t{svc.best_estimator_}')\n",
    "print(f'best params:\\t\\t{svc.best_params_}')\n",
    "print(f'accuracy:\\t\\t{accuracy_score(y_test, y_pred)}')\n",
    "print('\\nClassification report:')\n",
    "print(classification_report(y_test, y_pred))"
   ]
  },
  {
   "cell_type": "code",
   "execution_count": 8,
   "metadata": {},
   "outputs": [],
   "source": [
    "with open('w-e-svc.pickle', 'wb') as f:\n",
    "    pickle.dump(svc, f)"
   ]
  },
  {
   "cell_type": "markdown",
   "metadata": {},
   "source": [
    "## KNN Classifier"
   ]
  },
  {
   "cell_type": "code",
   "execution_count": 9,
   "metadata": {},
   "outputs": [],
   "source": [
    "param_grid = {\n",
    "    'n_neighbors': [3, 5, 7, 9, 11, 13, 15, 17],\n",
    "    'weights': ['uniform', 'distance'],\n",
    "    'leaf_size': [5, 10, 15, 20, 25, 30]\n",
    "}\n",
    "estimator = KNeighborsClassifier()\n",
    "knn = GridSearchCV(\n",
    "    estimator = estimator, \n",
    "    param_grid = param_grid,\n",
    "    scoring = 'accuracy'\n",
    ")\n",
    "knn.fit(X_train, y_train)\n",
    "y_pred = knn.predict(X_test)"
   ]
  },
  {
   "cell_type": "code",
   "execution_count": 10,
   "metadata": {},
   "outputs": [
    {
     "name": "stdout",
     "output_type": "stream",
     "text": [
      "best estimator:\t\tKNeighborsClassifier(leaf_size=5, n_neighbors=17, weights='distance')\n",
      "best params:\t\t{'leaf_size': 5, 'n_neighbors': 17, 'weights': 'distance'}\n",
      "accuracy:\t\t0.7772045028142589\n",
      "\n",
      "Classification report:\n",
      "              precision    recall  f1-score   support\n",
      "\n",
      "         0.0       0.76      0.82      0.79      1069\n",
      "         1.0       0.80      0.73      0.77      1063\n",
      "\n",
      "    accuracy                           0.78      2132\n",
      "   macro avg       0.78      0.78      0.78      2132\n",
      "weighted avg       0.78      0.78      0.78      2132\n",
      "\n"
     ]
    }
   ],
   "source": [
    "print(f'best estimator:\\t\\t{knn.best_estimator_}')\n",
    "print(f'best params:\\t\\t{knn.best_params_}')\n",
    "print(f'accuracy:\\t\\t{accuracy_score(y_test, y_pred)}')\n",
    "print('\\nClassification report:')\n",
    "print(classification_report(y_test, y_pred))"
   ]
  },
  {
   "cell_type": "code",
   "execution_count": 11,
   "metadata": {},
   "outputs": [],
   "source": [
    "with open('w-e-knn.pickle', 'wb') as f:\n",
    "    pickle.dump(knn, f)"
   ]
  },
  {
   "cell_type": "markdown",
   "metadata": {},
   "source": [
    "## Logistic Regression"
   ]
  },
  {
   "cell_type": "code",
   "execution_count": 12,
   "metadata": {},
   "outputs": [],
   "source": [
    "logreg = LogisticRegression()\n",
    "\n",
    "param_grid = {\n",
    "    'C': [1, 3, 5], \n",
    "    'penalty': ['l1', 'l2', 'none'],\n",
    "    'solver': ['newton-cg', 'lbfgs', 'liblinear', 'sag', 'saga'],\n",
    "    'max_iter': [1000]\n",
    "\n",
    "}\n",
    "estimator = LogisticRegression()\n",
    "logreg = GridSearchCV(\n",
    "    estimator = estimator, \n",
    "    param_grid = param_grid,\n",
    "    scoring = 'accuracy'\n",
    ")\n",
    "logreg.fit(X_train, y_train)\n",
    "y_pred = logreg.predict(X_test)"
   ]
  },
  {
   "cell_type": "code",
   "execution_count": 13,
   "metadata": {},
   "outputs": [
    {
     "name": "stdout",
     "output_type": "stream",
     "text": [
      "best estimator:\t\tLogisticRegression(C=1, max_iter=1000, solver='newton-cg')\n",
      "best params:\t\t{'C': 1, 'max_iter': 1000, 'penalty': 'l2', 'solver': 'newton-cg'}\n",
      "accuracy:\t\t0.7368667917448405\n",
      "\n",
      "Classification report:\n",
      "              precision    recall  f1-score   support\n",
      "\n",
      "         0.0       0.73      0.74      0.74      1069\n",
      "         1.0       0.74      0.73      0.73      1063\n",
      "\n",
      "    accuracy                           0.74      2132\n",
      "   macro avg       0.74      0.74      0.74      2132\n",
      "weighted avg       0.74      0.74      0.74      2132\n",
      "\n"
     ]
    }
   ],
   "source": [
    "print(f'best estimator:\\t\\t{logreg.best_estimator_}')\n",
    "print(f'best params:\\t\\t{logreg.best_params_}')\n",
    "print(f'accuracy:\\t\\t{accuracy_score(y_test, y_pred)}')\n",
    "print('\\nClassification report:')\n",
    "print(classification_report(y_test, y_pred))"
   ]
  },
  {
   "cell_type": "code",
   "execution_count": 14,
   "metadata": {},
   "outputs": [
    {
     "data": {
      "image/png": "[encoded data removed]",
      "text/plain": [
       "<Figure size 640x480 with 1 Axes>"
      ]
     },
     "metadata": {},
     "output_type": "display_data"
    }
   ],
   "source": [
    "lr_probs = logreg.predict_proba(X_test)\n",
    "lr_probs = lr_probs[:, 1]  # keep probabilities for the positive outcome only\n",
    "lr_precision, lr_recall, _ = precision_recall_curve(y_test, lr_probs)\n",
    "plt.plot(lr_recall, lr_precision, marker='.', label='Logistic')\n",
    "plt.xlabel('Recall')\n",
    "plt.ylabel('Precision')\n",
    "plt.legend()\n",
    "plt.show()"
   ]
  },
  {
   "cell_type": "code",
   "execution_count": 15,
   "metadata": {},
   "outputs": [],
   "source": [
    "with open('w-e-logreg.pickle', 'wb') as f:\n",
    "    pickle.dump(logreg, f)"
   ]
  },
  {
   "cell_type": "markdown",
   "metadata": {},
   "source": [
    "## Gradient Boosting Classifier"
   ]
  },
  {
   "cell_type": "code",
   "execution_count": 16,
   "metadata": {},
   "outputs": [],
   "source": [
    "param_grid = {\n",
    "    'learning_rate': [0.01, 0.1 ], \n",
    "    'n_estimators': [100, 500, 1000]\n",
    "}\n",
    "estimator = GradientBoostingClassifier()\n",
    "gradboost = GridSearchCV(\n",
    "    estimator = estimator,\n",
    "    param_grid = param_grid,\n",
    "    scoring = 'accuracy'\n",
    ")\n",
    "gradboost.fit(X_train, y_train)\n",
    "y_pred = gradboost.predict(X_test)"
   ]
  },
  {
   "cell_type": "code",
   "execution_count": 17,
   "metadata": {},
   "outputs": [
    {
     "name": "stdout",
     "output_type": "stream",
     "text": [
      "best estimator:\t\tGradientBoostingClassifier(n_estimators=500)\n",
      "best params:\t\t{'learning_rate': 0.1, 'n_estimators': 500}\n",
      "accuracy:\t\t0.7945590994371482\n",
      "\n",
      "Classification report:\n",
      "              precision    recall  f1-score   support\n",
      "\n",
      "         0.0       0.78      0.81      0.80      1069\n",
      "         1.0       0.81      0.77      0.79      1063\n",
      "\n",
      "    accuracy                           0.79      2132\n",
      "   macro avg       0.80      0.79      0.79      2132\n",
      "weighted avg       0.79      0.79      0.79      2132\n",
      "\n"
     ]
    }
   ],
   "source": [
    "print(f'best estimator:\\t\\t{gradboost.best_estimator_}')\n",
    "print(f'best params:\\t\\t{gradboost.best_params_}')\n",
    "print(f'accuracy:\\t\\t{accuracy_score(y_test, y_pred)}')\n",
    "print('\\nClassification report:')\n",
    "print(classification_report(y_test, y_pred))"
   ]
  },
  {
   "cell_type": "code",
   "execution_count": 18,
   "metadata": {},
   "outputs": [
    {
     "data": {
      "image/png": "[encoded data removed]",
      "text/plain": [
       "<Figure size 640x480 with 1 Axes>"
      ]
     },
     "metadata": {},
     "output_type": "display_data"
    }
   ],
   "source": [
    "lr_probs = gradboost.predict_proba(X_test)\n",
    "lr_probs = lr_probs[:, 1]  # keep probabilities for the positive outcome only\n",
    "lr_precision, lr_recall, _ = precision_recall_curve(y_test, lr_probs)\n",
    "plt.plot(lr_recall, lr_precision, marker='.', label='Gradient Boosting')\n",
    "plt.xlabel('Recall')\n",
    "plt.ylabel('Precision')\n",
    "plt.legend()\n",
    "plt.show()"
   ]
  },
  {
   "cell_type": "code",
   "execution_count": 19,
   "metadata": {},
   "outputs": [],
   "source": [
    "with open('w-e-gradboost.pickle', 'wb') as f:\n",
    "    pickle.dump(gradboost, f)"
   ]
  },
  {
   "cell_type": "markdown",
   "metadata": {},
   "source": [
    "## MLP Classifier"
   ]
  },
  {
   "cell_type": "code",
   "execution_count": 20,
   "metadata": {},
   "outputs": [],
   "source": [
    "param_grid = {\n",
    "    'solver': ['adam'], \n",
    "    'activation': ['relu']\n",
    "}\n",
    "estimator = MLPClassifier()\n",
    "mlp = GridSearchCV(\n",
    "    estimator = estimator,\n",
    "    param_grid = param_grid,\n",
    "    scoring = 'accuracy'\n",
    ")\n",
    "mlp.fit(X_train, y_train)\n",
    "y_pred = mlp.predict(X_test)"
   ]
  },
  {
   "cell_type": "code",
   "execution_count": 21,
   "metadata": {},
   "outputs": [
    {
     "name": "stdout",
     "output_type": "stream",
     "text": [
      "best estimator:\t\tMLPClassifier()\n",
      "best params:\t\t{'activation': 'relu', 'solver': 'adam'}\n",
      "accuracy:\t\t0.7378048780487805\n",
      "\n",
      "Classification report:\n",
      "              precision    recall  f1-score   support\n",
      "\n",
      "         0.0       0.72      0.77      0.75      1069\n",
      "         1.0       0.75      0.70      0.73      1063\n",
      "\n",
      "    accuracy                           0.74      2132\n",
      "   macro avg       0.74      0.74      0.74      2132\n",
      "weighted avg       0.74      0.74      0.74      2132\n",
      "\n"
     ]
    }
   ],
   "source": [
    "print(f'best estimator:\\t\\t{mlp.best_estimator_}')\n",
    "print(f'best params:\\t\\t{mlp.best_params_}')\n",
    "print(f'accuracy:\\t\\t{accuracy_score(y_test, y_pred)}')\n",
    "print('\\nClassification report:')\n",
    "print(classification_report(y_test, y_pred))"
   ]
  },
  {
   "cell_type": "code",
   "execution_count": 22,
   "metadata": {},
   "outputs": [],
   "source": [
    "with open('w-e-mlp.pickle', 'wb') as f:\n",
    "    pickle.dump(mlp, f)"
   ]
  },
  {
   "cell_type": "code",
   "execution_count": null,
   "metadata": {},
   "outputs": [],
   "source": []
  }
 ],
 "metadata": {
  "kernelspec": {
   "display_name": "Python 3.8.10 ('ml')",
   "language": "python",
   "name": "python3"
  },
  "language_info": {
   "codemirror_mode": {
    "name": "ipython",
    "version": 3
   },
   "file_extension": ".py",
   "mimetype": "text/x-python",
   "name": "python",
   "nbconvert_exporter": "python",
   "pygments_lexer": "ipython3",
   "version": "3.8.10"
  },
  "orig_nbformat": 4,
  "vscode": {
   "interpreter": {
    "hash": "343126294390100c13453ac05008dbd5f04a2489dbf951c72b8ce25f78ec4e86"
   }
  }
 },
 "nbformat": 4,
 "nbformat_minor": 2
}
